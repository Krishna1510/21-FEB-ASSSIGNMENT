{
 "cells": [
  {
   "cell_type": "markdown",
   "id": "2e191155-32b3-4f3f-9506-3770698a7aad",
   "metadata": {},
   "source": [
    "# ANSWERS "
   ]
  },
  {
   "cell_type": "markdown",
   "id": "56230d94-6cde-49b0-8209-9eb82616413d",
   "metadata": {},
   "source": [
    "#1 \n",
    "\n",
    "Web scraping is an automatic method to obtain large amounts of data from websites. Most of this data is unstructured data in an HTML format which is then converted into structured data in a spreadsheet or a database so that it can be used in various applications. \n",
    "There are  sites that don’t allow users to access large amounts of data in a structured form or they are simply not that technologically advanced. In that situation, it’s best to use Web Scraping to scrap the website for data.\n",
    "\n",
    "Web Scraping has multiple applications across various industries.Three of them are :\n",
    "\n",
    "1.Price Monitoring\n",
    "\n",
    "2.Market Research\n",
    "\n",
    "3.News Monitoring\n"
   ]
  },
  {
   "cell_type": "markdown",
   "id": "04a6729d-959c-45f1-97b2-950a3df8cc86",
   "metadata": {},
   "source": [
    "#2 \n",
    "\n",
    "BeautifulSoup: Beautiful Soup is a Python package for parsing HTML and XML documents. It creates parse trees that is helpful to extract the data easily.\n",
    "\n",
    "Pandas: Pandas is a library used for data manipulation and analysis. It is used to extract the data and store it in the desired format. \n"
   ]
  },
  {
   "cell_type": "markdown",
   "id": "17daa86c-931d-4112-9878-100c97e9b182",
   "metadata": {},
   "source": [
    "#3\n",
    "\n",
    "Beautiful Soup is a Python library for getting data out of HTML, XML, and other markup languages. Say you’ve found some webpages that display data relevant to your research, such as date or address information, but that do not provide any way of downloading the data directly. Beautiful Soup helps you pull particular content from a webpage, remove the HTML markup, and save the information.\n",
    "It is a tool for web scraping that helps you clean up and parse the documents you have pulled down from the web.\n"
   ]
  },
  {
   "cell_type": "markdown",
   "id": "af514d04-edce-4082-a616-e443f261a4ef",
   "metadata": {},
   "source": [
    "#4\n",
    "\n",
    "Flask is a lightweight framework to build websites. We use this to parse our collected data and display it as HTML in a new HTML file."
   ]
  },
  {
   "cell_type": "markdown",
   "id": "115b3358-baf3-494e-9ef3-44ab261eb2ba",
   "metadata": {},
   "source": [
    "#5\n",
    "\n",
    "AWS services used in project was code pipeline and elastic beanstalk\n",
    "\n",
    "Code pipeline  help to automatically build, test, and deploy our applications in the cloud.\n",
    "Specifically, it can  Automate your release processes , Establish a consistent release process , \n",
    "Speed up delivery while improving quality , Use your favorite tools , View progress at a glance ,View pipeline history details\n",
    "\n",
    "\n",
    "Elastic Beanstalk is a service for deploying and scaling web applications and services. Upload your code and Elastic Beanstalk automatically handles the deployment—from capacity provisioning, load balancing, and auto scaling to application health monitoring.\n"
   ]
  },
  {
   "cell_type": "code",
   "execution_count": null,
   "id": "b970db67-6ce9-4c01-a3b4-7f8c1a1a9b71",
   "metadata": {},
   "outputs": [],
   "source": []
  }
 ],
 "metadata": {
  "kernelspec": {
   "display_name": "Python 3 (ipykernel)",
   "language": "python",
   "name": "python3"
  },
  "language_info": {
   "codemirror_mode": {
    "name": "ipython",
    "version": 3
   },
   "file_extension": ".py",
   "mimetype": "text/x-python",
   "name": "python",
   "nbconvert_exporter": "python",
   "pygments_lexer": "ipython3",
   "version": "3.10.8"
  }
 },
 "nbformat": 4,
 "nbformat_minor": 5
}
